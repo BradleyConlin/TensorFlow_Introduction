{
  "cells": [
    {
      "cell_type": "markdown",
      "metadata": {
        "id": "ItXfxkxvosLH"
      },
      "source": [
        "# Introduction to Binary Text Classification"
      ]
    },
    {
      "cell_type": "markdown",
      "metadata": {
        "id": "Eg62Pmz3o83v"
      },
      "source": [
        "\n",
        "**Text classification** is the processs of training a model to recognize key features from text, and then classify or assign a label to that text. In this project, we will be using a **binary classifier** to decide if an IMDB review is negative or positive. \n",
        "\n",
        "**Text classification** can also be set up for **multi-class classification**, where you want to classify text into more than two categories, but for the purposes of thiss introduction, we will stay with binary classification."
      ]
    },
    {
      "cell_type": "markdown",
      "source": [
        "We will begin with importing our dependencies:"
      ],
      "metadata": {
        "id": "B627Z1mHYa89"
      }
    },
    {
      "cell_type": "code",
      "execution_count": 1,
      "metadata": {
        "id": "8RZOuS9LWQvv"
      },
      "outputs": [],
      "source": [
        "import matplotlib.pyplot as plt\n",
        "import os\n",
        "import re\n",
        "import shutil\n",
        "import string\n",
        "import tensorflow as tf\n",
        "\n",
        "from tensorflow.keras import layers\n",
        "from tensorflow.keras import losses\n"
      ]
    },
    {
      "cell_type": "markdown",
      "metadata": {
        "id": "NBTI1bi8qdFV"
      },
      "source": [
        "## Sentiment Analysis\n",
        "\n",
        "The IMDB database contains 50,000 entries, which are evening split between positive and negative reviews. This creates a balances dataset, the benefits of this is that a model with unbalanced data is that the model will generally lean towards the more common sentiment. \n",
        "\n",
        "For example, if our training dataset contained 90% negative reviews, the model would expect to a high percentage of reviews being negative in testing or deployment. This would result in the model incorrectly identifying many positive reviews as negative, thusly decreasing model accuracy. \n",
        "\n",
        "Unlike most datasets, the IMDB dataset has already been split into a 50/50 split. This means that there are 25,000 in the training dataset and 25,000 in the testing dataset. Furthermore, each dataset is split 50/50 positive to negative reviews, meaning there are 12,500 positive and 12,500 negative reviews in each segment of the database.\n",
        "\n",
        "While this 50/50 split of training and testing data could be a problem, however, since we have a balanced dataset, we can mitigate many problems with training from that alone.\n"
      ]
    },
    {
      "cell_type": "markdown",
      "metadata": {
        "id": "iAsKG535pHep"
      },
      "source": [
        "### Download and explore the IMDB dataset\n",
        "\n",
        "We will download the data from the stanford.edu website, and then explore the file structure. Unlike many introductory projects, this model will use a more complex ETL process."
      ]
    },
    {
      "cell_type": "code",
      "execution_count": 2,
      "metadata": {
        "id": "k7ZYnuajVlFN",
        "outputId": "e7673c4f-e715-4ef1-b5cc-3f607ec59d80",
        "colab": {
          "base_uri": "https://localhost:8080/"
        }
      },
      "outputs": [
        {
          "output_type": "stream",
          "name": "stdout",
          "text": [
            "Downloading data from https://ai.stanford.edu/~amaas/data/sentiment/aclImdb_v1.tar.gz\n",
            "84125825/84125825 [==============================] - 9s 0us/step\n"
          ]
        }
      ],
      "source": [
        "url = \"https://ai.stanford.edu/~amaas/data/sentiment/aclImdb_v1.tar.gz\"\n",
        "\n",
        "dataset = tf.keras.utils.get_file(\"aclImdb_v1\", url,\n",
        "                                    untar=True, cache_dir='.',\n",
        "                                    cache_subdir='')\n",
        "\n",
        "dataset_dir = os.path.join(os.path.dirname(dataset), 'aclImdb')"
      ]
    },
    {
      "cell_type": "markdown",
      "source": [
        "The following code will show us the files and folders in a given path.\n",
        "\n",
        "We can see several files, \"imdbEr.txt\", and folders, \"train\", \"test\", etc. "
      ],
      "metadata": {
        "id": "hCFE1M0Aahrt"
      }
    },
    {
      "cell_type": "code",
      "execution_count": 3,
      "metadata": {
        "id": "355CfOvsV1pl",
        "outputId": "db65757e-aec4-40ca-e58e-b2ab90d5823a",
        "colab": {
          "base_uri": "https://localhost:8080/"
        }
      },
      "outputs": [
        {
          "output_type": "execute_result",
          "data": {
            "text/plain": [
              "['imdbEr.txt', 'README', 'test', 'imdb.vocab', 'train']"
            ]
          },
          "metadata": {},
          "execution_count": 3
        }
      ],
      "source": [
        "os.listdir(dataset_dir)"
      ]
    },
    {
      "cell_type": "markdown",
      "source": [
        "We will create a training directory called \"train\", and then take a look at this new directory to see if we can find the key folders or files we need."
      ],
      "metadata": {
        "id": "CNdqeNKibTPm"
      }
    },
    {
      "cell_type": "code",
      "execution_count": 4,
      "metadata": {
        "id": "7ASND15oXpF1",
        "outputId": "40ef5544-cd04-48ab-923f-a583cb84509d",
        "colab": {
          "base_uri": "https://localhost:8080/"
        }
      },
      "outputs": [
        {
          "output_type": "execute_result",
          "data": {
            "text/plain": [
              "['urls_neg.txt',\n",
              " 'labeledBow.feat',\n",
              " 'neg',\n",
              " 'urls_pos.txt',\n",
              " 'unsupBow.feat',\n",
              " 'unsup',\n",
              " 'pos',\n",
              " 'urls_unsup.txt']"
            ]
          },
          "metadata": {},
          "execution_count": 4
        }
      ],
      "source": [
        "train_dir = os.path.join(dataset_dir, 'train')\n",
        "os.listdir(train_dir)"
      ]
    },
    {
      "cell_type": "markdown",
      "metadata": {
        "id": "ysMNMI1CWDFD"
      },
      "source": [
        "The `pos` and `neg` directories contain the text files, each of which is a single movie review.\n",
        "\n",
        "<br>\n",
        "\n",
        "We can take a look at any of these reviews, which is alwayss a great idea because it helpss us get more familiar with the data as well as perform some QA on the dataset."
      ]
    },
    {
      "cell_type": "code",
      "execution_count": 5,
      "metadata": {
        "id": "R7g8hFvzWLIZ",
        "outputId": "c7b806c7-86b6-4ed1-ab34-bc368ecdbda2",
        "colab": {
          "base_uri": "https://localhost:8080/"
        }
      },
      "outputs": [
        {
          "output_type": "stream",
          "name": "stdout",
          "text": [
            "Rachel Griffiths writes and directs this award winning short film. A heartwarming story about coping with grief and cherishing the memory of those we've loved and lost. Although, only 15 minutes long, Griffiths manages to capture so much emotion and truth onto film in the short space of time. Bud Tingwell gives a touching performance as Will, a widower struggling to cope with his wife's death. Will is confronted by the harsh reality of loneliness and helplessness as he proceeds to take care of Ruth's pet cow, Tulip. The film displays the grief and responsibility one feels for those they have loved and lost. Good cinematography, great direction, and superbly acted. It will bring tears to all those who have lost a loved one, and survived.\n"
          ]
        }
      ],
      "source": [
        "sample_file = os.path.join(train_dir, 'pos/1181_9.txt')\n",
        "with open(sample_file) as f:\n",
        "  print(f.read())"
      ]
    },
    {
      "cell_type": "markdown",
      "metadata": {
        "id": "Mk20TEm6ZRFP"
      },
      "source": [
        "### Load the dataset\n",
        "\n",
        "We will now load the data off disk and prepare it into a format suitable for training. \n",
        "\n",
        "<br>\n",
        "\n",
        "To do so, you will use the helpful ***text_dataset_from_directory*** utility, which expects a directory structure as follows:\n",
        "\n",
        "```\n",
        "main_directory/\n",
        "...class_a/\n",
        "......a_text_1.txt\n",
        "......a_text_2.txt\n",
        "...class_b/\n",
        "......b_text_1.txt\n",
        "......b_text_2.txt\n",
        "```"
      ]
    },
    {
      "cell_type": "markdown",
      "metadata": {
        "id": "nQauv38Lnok3"
      },
      "source": [
        "So what does this all mean? \n",
        "\n",
        "Essentially, we need to create a file system that splits our two classes (binary) into `class_a` and `class_b`, which in our case is positive and negative reviews.\n",
        "\n",
        "<br>\n",
        "\n",
        "Since our data has folders we do not need for processing, we will remove these with the follow command."
      ]
    },
    {
      "cell_type": "code",
      "execution_count": 6,
      "metadata": {
        "id": "VhejsClzaWfl"
      },
      "outputs": [],
      "source": [
        "remove_dir = os.path.join(train_dir, 'unsup')\n",
        "shutil.rmtree(remove_dir)"
      ]
    },
    {
      "cell_type": "markdown",
      "metadata": {
        "id": "95kkUdRoaeMw"
      },
      "source": [
        "We will now use the `text_dataset_from_directory` utility to create a labeled `tf.data.Dataset`. \n",
        "\n",
        "\n",
        "<br>\n",
        "\n",
        "It is a best practice to divide our data into three segments: **train**, **validation**, and **test**. \n",
        "\n",
        "Since this dataset has already been segmented into train and test, we can create a validation dataset from the testing data. We will do an 80/20 split of the data, but you can change this as required.\n",
        "\n",
        "<br>\n",
        "\n",
        "Using the validation_split line of code below will split this data for us. Keep in mind, you will pass through the argument for the validation percentage, so in this case we will use `0.2` or 20%, but you could use `0.3` for a 70/30 split for example."
      ]
    },
    {
      "cell_type": "code",
      "execution_count": 7,
      "metadata": {
        "id": "nOrK-MTYaw3C",
        "outputId": "7d12824d-12fd-46d5-b47d-baa79248831d",
        "colab": {
          "base_uri": "https://localhost:8080/"
        }
      },
      "outputs": [
        {
          "output_type": "stream",
          "name": "stdout",
          "text": [
            "Found 25000 files belonging to 2 classes.\n",
            "Using 20000 files for training.\n"
          ]
        }
      ],
      "source": [
        "batch_size = 32\n",
        "seed = 42\n",
        "\n",
        "raw_train_ds = tf.keras.utils.text_dataset_from_directory(\n",
        "    'aclImdb/train', \n",
        "    batch_size=batch_size, \n",
        "    validation_split=0.2, \n",
        "    subset='training', \n",
        "    seed=seed)"
      ]
    },
    {
      "cell_type": "markdown",
      "metadata": {
        "id": "5Y33oxOUpYkh"
      },
      "source": [
        "We can see that the previous command found 25,000 entries, and will use 20,0000 entries for training, or 80% of 25,000.\n",
        "\n",
        "\n",
        "Now we can train a model by passing a dataset directly to `model.fit`, but we can also iterate over the dataset and print out a few examples as follows, which once again is always a great idea for assuring your commands are correct and you are getting the results as expected."
      ]
    },
    {
      "cell_type": "code",
      "execution_count": 8,
      "metadata": {
        "id": "51wNaPPApk1K",
        "outputId": "f0592496-e015-44e8-e021-27cbb51cbeaf",
        "colab": {
          "base_uri": "https://localhost:8080/"
        }
      },
      "outputs": [
        {
          "output_type": "stream",
          "name": "stdout",
          "text": [
            "Review b'\"Pandemonium\" is a horror movie spoof that comes off more stupid than funny. Believe me when I tell you, I love comedies. Especially comedy spoofs. \"Airplane\", \"The Naked Gun\" trilogy, \"Blazing Saddles\", \"High Anxiety\", and \"Spaceballs\" are some of my favorite comedies that spoof a particular genre. \"Pandemonium\" is not up there with those films. Most of the scenes in this movie had me sitting there in stunned silence because the movie wasn\\'t all that funny. There are a few laughs in the film, but when you watch a comedy, you expect to laugh a lot more than a few times and that\\'s all this film has going for it. Geez, \"Scream\" had more laughs than this film and that was more of a horror film. How bizarre is that?<br /><br />*1/2 (out of four)'\n",
            "Label 0\n",
            "Review b\"David Mamet is a very interesting and a very un-equal director. His first movie 'House of Games' was the one I liked best, and it set a series of films with characters whose perspective of life changes as they get into complicated situations, and so does the perspective of the viewer.<br /><br />So is 'Homicide' which from the title tries to set the mind of the viewer to the usual crime drama. The principal characters are two cops, one Jewish and one Irish who deal with a racially charged area. The murder of an old Jewish shop owner who proves to be an ancient veteran of the Israeli Independence war triggers the Jewish identity in the mind and heart of the Jewish detective.<br /><br />This is were the flaws of the film are the more obvious. The process of awakening is theatrical and hard to believe, the group of Jewish militants is operatic, and the way the detective eventually walks to the final violent confrontation is pathetic. The end of the film itself is Mamet-like smart, but disappoints from a human emotional perspective.<br /><br />Joe Mantegna and William Macy give strong performances, but the flaws of the story are too evident to be easily compensated.\"\n",
            "Label 0\n",
            "Review b'Great documentary about the lives of NY firefighters during the worst terrorist attack of all time.. That reason alone is why this should be a must see collectors item.. What shocked me was not only the attacks, but the\"High Fat Diet\" and physical appearance of some of these firefighters. I think a lot of Doctors would agree with me that,in the physical shape they were in, some of these firefighters would NOT of made it to the 79th floor carrying over 60 lbs of gear. Having said that i now have a greater respect for firefighters and i realize becoming a firefighter is a life altering job. The French have a history of making great documentary\\'s and that is what this is, a Great Documentary.....'\n",
            "Label 1\n"
          ]
        }
      ],
      "source": [
        "for text_batch, label_batch in raw_train_ds.take(1):\n",
        "  for i in range(3):\n",
        "    print(\"Review\", text_batch.numpy()[i])\n",
        "    print(\"Label\", label_batch.numpy()[i])"
      ]
    },
    {
      "cell_type": "markdown",
      "metadata": {
        "id": "JWq1SUIrp1a-"
      },
      "source": [
        "We can see that the reviews contain \"normal\" or raw text, such as letters, punctuation, etc. as well as some HTML tags, such as `<br/>`. If you are new to NLP, you will know that these are red flags for your data, and we will need to address this before we can train a model.\n",
        "\n",
        "After the \"Review\" we can also see a \"Label\", which are either 0 or 1 (binary). We can see clearly from the reviews above that a \"0\" is a negative review, and a \"1\" is a positive review. \n",
        "\n",
        "With this said, it may not always be this easy, and we should trust the data source when we know it is curated a such, so we will check the `class_names` property in our dataset as follows:\n"
      ]
    },
    {
      "cell_type": "code",
      "execution_count": 9,
      "metadata": {
        "id": "MlICTG8spyO2",
        "outputId": "a79ec221-5d82-456f-dfb7-166daaa231d1",
        "colab": {
          "base_uri": "https://localhost:8080/"
        }
      },
      "outputs": [
        {
          "output_type": "stream",
          "name": "stdout",
          "text": [
            "Label 0 corresponds to neg\n",
            "Label 1 corresponds to pos\n"
          ]
        }
      ],
      "source": [
        "print(\"Label 0 corresponds to\", raw_train_ds.class_names[0])\n",
        "print(\"Label 1 corresponds to\", raw_train_ds.class_names[1])"
      ]
    },
    {
      "cell_type": "markdown",
      "metadata": {
        "id": "pbdO39vYqdJr"
      },
      "source": [
        "We will now use the remaining 5,000 reviews from the training set for validation.\n",
        "\n",
        "<br>\n",
        "\n",
        "We will `raw_val_ds` and `raw_test_ds` for the new validation and test datasets, respsectfully."
      ]
    },
    {
      "cell_type": "code",
      "execution_count": 10,
      "metadata": {
        "id": "JsMwwhOoqjKF",
        "outputId": "a9013446-7cb5-4f83-f355-ff90d5115ed9",
        "colab": {
          "base_uri": "https://localhost:8080/"
        }
      },
      "outputs": [
        {
          "output_type": "stream",
          "name": "stdout",
          "text": [
            "Found 25000 files belonging to 2 classes.\n",
            "Using 5000 files for validation.\n"
          ]
        }
      ],
      "source": [
        "raw_val_ds = tf.keras.utils.text_dataset_from_directory(\n",
        "    'aclImdb/train', \n",
        "    batch_size=batch_size, \n",
        "    validation_split=0.2, \n",
        "    subset='validation', \n",
        "    seed=seed)"
      ]
    },
    {
      "cell_type": "code",
      "execution_count": 11,
      "metadata": {
        "id": "rdSr0Nt3q_ns",
        "outputId": "b1da565c-6500-493d-ac1c-6fab9c54319e",
        "colab": {
          "base_uri": "https://localhost:8080/"
        }
      },
      "outputs": [
        {
          "output_type": "stream",
          "name": "stdout",
          "text": [
            "Found 25000 files belonging to 2 classes.\n"
          ]
        }
      ],
      "source": [
        "raw_test_ds = tf.keras.utils.text_dataset_from_directory(\n",
        "    'aclImdb/test', \n",
        "    batch_size=batch_size)"
      ]
    },
    {
      "cell_type": "markdown",
      "metadata": {
        "id": "qJmTiO0IYAjm"
      },
      "source": [
        "## Prepare the dataset for training\n",
        "\n",
        "We wll now standardize, tokenize, and vectorize the data. Since we are using TenssorFlow, we can use the `tf.keras.layers.TextVectorization` layer directly in the model.\n",
        "\n",
        "So what does this mean?\n",
        "\n",
        "These are all data preprocessing steps that are required to pass the data through an NLP model successfully.\n",
        "\n",
        "- **Standardization**: The removal of punctuation and HTML tags, a well as converting all text to lowercase.\n",
        "\n",
        "- **Tokenization**: Is the act of splitting up the text into \"tokens\" or segments. This can be done by breaking up a paragraph into sentences, and then sentences into individual words. We will often remove stop words and other non-required parts of the text, such as \"ing\".\n",
        "\n",
        "- **Vectorization**: Is the process of converting string text into a numerical value. \n",
        "\n",
        "<br>\n",
        "\n",
        "All of these tasks can be accomplished with this layer.\n",
        "\n",
        "<br>\n",
        "\n",
        "\n",
        "HTML tags will not be removed by the default standardizer in the `TextVectorization` layer (which converts text to lowercase and strips punctuation by default, but doesn't strip HTML). \n",
        "\n",
        "The following is a custom standardization function to remove the HTML tags."
      ]
    },
    {
      "cell_type": "code",
      "execution_count": 12,
      "metadata": {
        "id": "SDRI_s_tX1Hk"
      },
      "outputs": [],
      "source": [
        "def custom_standardization(input_data):\n",
        "  lowercase = tf.strings.lower(input_data)\n",
        "  stripped_html = tf.strings.regex_replace(lowercase, '<br />', ' ')\n",
        "  return tf.strings.regex_replace(stripped_html,\n",
        "                                  '[%s]' % re.escape(string.punctuation),\n",
        "                                  '')"
      ]
    },
    {
      "cell_type": "markdown",
      "metadata": {
        "id": "d2d3Aw8dsUux"
      },
      "source": [
        "Next, we will create a `TextVectorization` layer. We set the `output_mode` to `int` to create unique integer indices for each token. Or in other words, we make ure each unique word has an associated unique number.\n",
        "\n",
        "<br>\n",
        "\n",
        "We will use the custom HTML function from above, and the standard split function, along with some defined constants, such as `sequence_length`, which sets our inputs to a specific length.\n",
        "\n",
        "<br> \n",
        "\n",
        "The `sequence_length` argument will either pad (add) or truncate (subtract) values from the entries to match the value we provide."
      ]
    },
    {
      "cell_type": "code",
      "execution_count": 13,
      "metadata": {
        "id": "-c76RvSzsMnX"
      },
      "outputs": [],
      "source": [
        "max_features = 10000\n",
        "sequence_length = 250\n",
        "\n",
        "vectorize_layer = layers.TextVectorization(\n",
        "    standardize=custom_standardization,\n",
        "    max_tokens=max_features,\n",
        "    output_mode='int',\n",
        "    output_sequence_length=sequence_length)"
      ]
    },
    {
      "cell_type": "markdown",
      "metadata": {
        "id": "vlFOpfF6scT6"
      },
      "source": [
        "We now need to call the `adapt` argument to fit the state of the preprocessing layer to the dataset. This will result in the model to build an index of strings to integers."
      ]
    },
    {
      "cell_type": "markdown",
      "metadata": {
        "id": "lAhdjK7AtroA"
      },
      "source": [
        "***Note: It's important to only use your training data when calling adapt (using the test set would leak information).***"
      ]
    },
    {
      "cell_type": "markdown",
      "source": [
        "This following set of code will create a text-only dataset, without labels, and then we will call our `adapt` argument to create the index."
      ],
      "metadata": {
        "id": "_adWt-DQhuV9"
      }
    },
    {
      "cell_type": "code",
      "execution_count": 14,
      "metadata": {
        "id": "GH4_2ZGJsa_X"
      },
      "outputs": [],
      "source": [
        "# Make a text-only dataset (without labels), then call adapt\n",
        "train_text = raw_train_ds.map(lambda x, y: x)\n",
        "vectorize_layer.adapt(train_text)"
      ]
    },
    {
      "cell_type": "markdown",
      "metadata": {
        "id": "SHQVEFzNt-K_"
      },
      "source": [
        "To help us understand what we just did, we will create a function to see what this layer will do to some data!\n",
        "\n",
        "<br>\n",
        "\n",
        "Note: This is where it gets cool!"
      ]
    },
    {
      "cell_type": "code",
      "execution_count": 15,
      "metadata": {
        "id": "SCIg_T50wOCU"
      },
      "outputs": [],
      "source": [
        "def vectorize_text(text, label):\n",
        "  text = tf.expand_dims(text, -1)\n",
        "  return vectorize_layer(text), label"
      ]
    },
    {
      "cell_type": "code",
      "execution_count": 16,
      "metadata": {
        "id": "XULcm6B3xQIO",
        "outputId": "d86c70a0-4ad7-488d-eb07-f3f641239f40",
        "colab": {
          "base_uri": "https://localhost:8080/"
        }
      },
      "outputs": [
        {
          "output_type": "stream",
          "name": "stdout",
          "text": [
            "Review: tf.Tensor(b\"I am shocked. Shocked and dismayed that the 428 of you IMDB users who voted before me have not given this film a rating of higher than 7. 7?!?? - that's a C!. If I could give FOBH a 20, I'd gladly do it. This film ranks high atop the pantheon of modern comedy, alongside Half Baked and Mallrats, as one of the most hilarious films of all time. If you know _anything_ about rap music - YOU MUST SEE THIS!! If you know nothing about rap music - learn something!, and then see this! Comparisons to 'Spinal Tap' fail to appreciate the inspired genius of this unique film. If you liked Bob Roberts, you'll love this. Watch it and vote it a 10!\", shape=(), dtype=string)\n",
            "Label: pos\n",
            "Vectorized Review: (<tf.Tensor: shape=(1, 250), dtype=int64, numpy=\n",
            "array([[  10,  237, 2350, 2350,    3,    1,   12,    2,    1,    5,   22,\n",
            "         922, 5790,   36, 5633,  153,   69,   25,   21,  340,   11,   19,\n",
            "           4,  693,    5, 1718,   70, 1131, 1131,  177,    4, 1885,   45,\n",
            "          10,   98,  193,    1,    4,  950,  450,    1,   82,    9,   11,\n",
            "          19, 3798,  331,    1,    2,    1,    5,  709,  220, 4475,  363,\n",
            "           1,    3,    1,   14,   28,    5,    2,   88,  615,   94,    5,\n",
            "          30,   58,   45,   22,  118,  228,   42, 3662,  222,   22,  219,\n",
            "          67,   11,   45,   22,  118,  155,   42, 3662,  222,  817,  138,\n",
            "           3,   92,   67,   11, 5471,    6, 5572, 4139, 1760,    6, 1111,\n",
            "           2, 1534, 1209,    5,   11,  953,   19,   45,   22,  414, 1956,\n",
            "        2985,  483,  115,   11,  103,    9,    3, 2187,    9,    4,  296,\n",
            "           0,    0,    0,    0,    0,    0,    0,    0,    0,    0,    0,\n",
            "           0,    0,    0,    0,    0,    0,    0,    0,    0,    0,    0,\n",
            "           0,    0,    0,    0,    0,    0,    0,    0,    0,    0,    0,\n",
            "           0,    0,    0,    0,    0,    0,    0,    0,    0,    0,    0,\n",
            "           0,    0,    0,    0,    0,    0,    0,    0,    0,    0,    0,\n",
            "           0,    0,    0,    0,    0,    0,    0,    0,    0,    0,    0,\n",
            "           0,    0,    0,    0,    0,    0,    0,    0,    0,    0,    0,\n",
            "           0,    0,    0,    0,    0,    0,    0,    0,    0,    0,    0,\n",
            "           0,    0,    0,    0,    0,    0,    0,    0,    0,    0,    0,\n",
            "           0,    0,    0,    0,    0,    0,    0,    0,    0,    0,    0,\n",
            "           0,    0,    0,    0,    0,    0,    0,    0,    0,    0,    0,\n",
            "           0,    0,    0,    0,    0,    0,    0,    0]])>, <tf.Tensor: shape=(), dtype=int32, numpy=1>)\n"
          ]
        }
      ],
      "source": [
        "text_batch, label_batch = next(iter(raw_train_ds))\n",
        "first_review, first_label = text_batch[1], label_batch[1]\n",
        "print(\"Review:\", first_review)\n",
        "print(\"Label:\", raw_train_ds.class_names[first_label])\n",
        "print(\"Vectorized Review:\", vectorize_text(first_review, first_label))"
      ]
    },
    {
      "cell_type": "markdown",
      "metadata": {
        "id": "6u5EX0hxyNZT"
      },
      "source": [
        "The previous code block could be confusing, but the output is rather straightforward. \n",
        "\n",
        "First you can see the original review, followed by the label (pos/neg). \n",
        "\n",
        "The final output is the vectorized version of the original review. You can see here that the review was not long enough, so the `TextVectorization` layer padded (added) to the review by adding \"0\" values to the remaing required values to match 250 values. \n",
        "\n",
        "As you can see above, each token has been replaced by an integer. You can lookup the token (string) that each integer corresponds to by calling `.get_vocabulary()` on the layer."
      ]
    },
    {
      "cell_type": "markdown",
      "source": [
        "You can see that each specific word has a unique value, and this becomes more apparent when you fine duplicate words in a review, such as \"I\" or \"movie\". \n",
        "\n",
        "<br>\n",
        "\n",
        "We can see what any value is by using the `.get_vocabulary()` argument, along with the nunmeric value you want to look up. \n",
        "\n",
        "<br>\n",
        "\n",
        "***Note***: *Feel free to change the below values to see different numeric-text matches.*"
      ],
      "metadata": {
        "id": "Hy24hZBtlQTB"
      }
    },
    {
      "cell_type": "code",
      "execution_count": 17,
      "metadata": {
        "id": "kRq9hTQzhVhW",
        "outputId": "cfb69dd6-8415-40b5-c409-90d5a37f8c40",
        "colab": {
          "base_uri": "https://localhost:8080/"
        }
      },
      "outputs": [
        {
          "output_type": "stream",
          "name": "stdout",
          "text": [
            "1209 --->  genius\n",
            "5471 --->  comparisons\n",
            "Vocabulary size: 10000\n"
          ]
        }
      ],
      "source": [
        "print(\"1209 ---> \",vectorize_layer.get_vocabulary()[1209])\n",
        "print(\"5471 ---> \",vectorize_layer.get_vocabulary()[5471])\n",
        "print('Vocabulary size: {}'.format(len(vectorize_layer.get_vocabulary())))"
      ]
    },
    {
      "cell_type": "markdown",
      "metadata": {
        "id": "XD2H6utRydGv"
      },
      "source": [
        "We have one final preprocessing step left before we can train our model.\n",
        "\n",
        "<br>\n",
        "\n",
        "We need to apply the TextVectorization layer to the `train`, `validation` and `test` datasets."
      ]
    },
    {
      "cell_type": "code",
      "execution_count": 18,
      "metadata": {
        "id": "2zhmpeViI1iG"
      },
      "outputs": [],
      "source": [
        "train_ds = raw_train_ds.map(vectorize_text)\n",
        "val_ds = raw_val_ds.map(vectorize_text)\n",
        "test_ds = raw_test_ds.map(vectorize_text)"
      ]
    },
    {
      "cell_type": "markdown",
      "metadata": {
        "id": "YsVQyPMizjuO"
      },
      "source": [
        "### Configure the dataset for performance\n",
        "\n",
        "Unlike a lot of things we do on our computers, machine learning models often require significant amounts of compute power to perform optimally. In fact, some models are so complex that only multi-billion dollar clusters are able to run them. \n",
        "\n",
        "For this, it is important for us to optimize both our pipeline (how data moves through our model/processes) and the data we pass through. \n",
        "\n",
        "<br>\n",
        "\n",
        "`.cache()` keeps the data in the memory after it is loaded off disk. Essentially this preloads the data so that the model will not have to wait on new data to process.\n",
        "\n",
        "`.prefetch()` overlaps data preprocessing and model execution while training."
      ]
    },
    {
      "cell_type": "code",
      "execution_count": 19,
      "metadata": {
        "id": "wMcs_H7izm5m"
      },
      "outputs": [],
      "source": [
        "AUTOTUNE = tf.data.AUTOTUNE\n",
        "\n",
        "train_ds = train_ds.cache().prefetch(buffer_size=AUTOTUNE)\n",
        "val_ds = val_ds.cache().prefetch(buffer_size=AUTOTUNE)\n",
        "test_ds = test_ds.cache().prefetch(buffer_size=AUTOTUNE)"
      ]
    },
    {
      "cell_type": "markdown",
      "source": [
        "We use the `tf.data.AUTOTUNE` argument to make us sound better when presenting our findings...Okay...maybe not.\n",
        "\n",
        "AUTOTUNE allows the model to automatically decide how much parallelization to use during the model training, aka, how often should the model be any number of the following functions: opening, loading and training. More specifically, when should it complete more than one function at a given time."
      ],
      "metadata": {
        "id": "fEQBgBDopa5l"
      }
    },
    {
      "cell_type": "markdown",
      "metadata": {
        "id": "LLC02j2g-llC"
      },
      "source": [
        "## Create the model\n",
        "\n",
        "We can now create our model!\n",
        "\n",
        "<br>\n",
        "\n",
        "We will begin by declaring how many dimensions we want our model to have, in thiss case 16."
      ]
    },
    {
      "cell_type": "code",
      "execution_count": 20,
      "metadata": {
        "id": "dkQP6in8yUBR"
      },
      "outputs": [],
      "source": [
        "embedding_dim = 16"
      ]
    },
    {
      "cell_type": "markdown",
      "source": [
        "We will now create the layers sequentially to build our classifier. \n",
        "\n",
        "\n",
        "1. `Embedding` layer: This layer takes the integer-encoded reviews and looks up an embedding vector for each word-index. These vectors are learned as the model trains. The vectors add a dimension to the output array. The resulting dimensions are: `(batch, sequence, embedding)`.\n",
        "\n",
        "2. `GlobalAveragePooling1D` layer: returns a fixed-length output vector for each example by averaging over the sequence dimension. This allows the model to handle input of variable length, in the simplest way possible.\n",
        "\n",
        "3. This fixed-length output vector is piped through a fully-connected (`Dense`) layer with 16 hidden units.\n",
        "\n",
        "4. The last layer is densely connected with a single output node, giving us the predicted classification."
      ],
      "metadata": {
        "id": "EO_N5Utjq7qQ"
      }
    },
    {
      "cell_type": "code",
      "execution_count": 21,
      "metadata": {
        "id": "xpKOoWgu-llD",
        "outputId": "10ff9eab-2fd7-4fc0-95fa-a8260ff67686",
        "colab": {
          "base_uri": "https://localhost:8080/"
        }
      },
      "outputs": [
        {
          "output_type": "stream",
          "name": "stdout",
          "text": [
            "Model: \"sequential\"\n",
            "_________________________________________________________________\n",
            " Layer (type)                Output Shape              Param #   \n",
            "=================================================================\n",
            " embedding (Embedding)       (None, None, 16)          160016    \n",
            "                                                                 \n",
            " dropout (Dropout)           (None, None, 16)          0         \n",
            "                                                                 \n",
            " global_average_pooling1d (G  (None, 16)               0         \n",
            " lobalAveragePooling1D)                                          \n",
            "                                                                 \n",
            " dropout_1 (Dropout)         (None, 16)                0         \n",
            "                                                                 \n",
            " dense (Dense)               (None, 1)                 17        \n",
            "                                                                 \n",
            "=================================================================\n",
            "Total params: 160,033\n",
            "Trainable params: 160,033\n",
            "Non-trainable params: 0\n",
            "_________________________________________________________________\n"
          ]
        }
      ],
      "source": [
        "model = tf.keras.Sequential([\n",
        "  layers.Embedding(max_features + 1, embedding_dim),\n",
        "  layers.Dropout(0.2),\n",
        "  layers.GlobalAveragePooling1D(),\n",
        "  layers.Dropout(0.2),\n",
        "  layers.Dense(1)])\n",
        "\n",
        "model.summary()"
      ]
    },
    {
      "cell_type": "markdown",
      "metadata": {
        "id": "L4EqVWg4-llM"
      },
      "source": [
        "### Loss function and optimizer\n",
        "\n",
        "Our model still needs a loss function and optimizer for training, as these give the model an idea how to deal with incorrect and correct predictions. \n",
        "\n",
        "- **Loss Function**: Given we are using a binary classsifier, we need to use the `losses.BinaryCrossentropy` loss function.\n",
        "\n",
        "- **Optimizer**: We will use the standard `adam` optimizer for this project"
      ]
    },
    {
      "cell_type": "code",
      "execution_count": 22,
      "metadata": {
        "id": "Mr0GP-cQ-llN"
      },
      "outputs": [],
      "source": [
        "model.compile(loss=losses.BinaryCrossentropy(from_logits=True),\n",
        "              optimizer='adam',\n",
        "              metrics=tf.metrics.BinaryAccuracy(threshold=0.0))"
      ]
    },
    {
      "cell_type": "markdown",
      "metadata": {
        "id": "35jv_fzP-llU"
      },
      "source": [
        "## Train the model\n",
        "\n",
        "We will train the model by passing the `dataset` object through by ussing the model.fit argument. \n",
        "\n",
        "**Epoch**: Refers to the number of times the model will run through the full dataset. Please feel free to play around with this value, but for this project we will keep it at `10`. "
      ]
    },
    {
      "cell_type": "code",
      "execution_count": 23,
      "metadata": {
        "id": "tXSGrjWZ-llW",
        "outputId": "a2ccc6cd-40ca-49f4-83fb-08f1f30ec8dd",
        "colab": {
          "base_uri": "https://localhost:8080/"
        }
      },
      "outputs": [
        {
          "output_type": "stream",
          "name": "stdout",
          "text": [
            "Epoch 1/10\n",
            "625/625 [==============================] - 9s 11ms/step - loss: 0.6639 - binary_accuracy: 0.6973 - val_loss: 0.6149 - val_binary_accuracy: 0.7720\n",
            "Epoch 2/10\n",
            "625/625 [==============================] - 3s 4ms/step - loss: 0.5487 - binary_accuracy: 0.8008 - val_loss: 0.4987 - val_binary_accuracy: 0.8224\n",
            "Epoch 3/10\n",
            "625/625 [==============================] - 3s 4ms/step - loss: 0.4458 - binary_accuracy: 0.8447 - val_loss: 0.4206 - val_binary_accuracy: 0.8472\n",
            "Epoch 4/10\n",
            "625/625 [==============================] - 3s 4ms/step - loss: 0.3789 - binary_accuracy: 0.8659 - val_loss: 0.3741 - val_binary_accuracy: 0.8610\n",
            "Epoch 5/10\n",
            "625/625 [==============================] - 3s 4ms/step - loss: 0.3357 - binary_accuracy: 0.8791 - val_loss: 0.3451 - val_binary_accuracy: 0.8672\n",
            "Epoch 6/10\n",
            "625/625 [==============================] - 3s 4ms/step - loss: 0.3045 - binary_accuracy: 0.8882 - val_loss: 0.3263 - val_binary_accuracy: 0.8702\n",
            "Epoch 7/10\n",
            "625/625 [==============================] - 3s 4ms/step - loss: 0.2818 - binary_accuracy: 0.8979 - val_loss: 0.3131 - val_binary_accuracy: 0.8710\n",
            "Epoch 8/10\n",
            "625/625 [==============================] - 3s 4ms/step - loss: 0.2621 - binary_accuracy: 0.9042 - val_loss: 0.3035 - val_binary_accuracy: 0.8752\n",
            "Epoch 9/10\n",
            "625/625 [==============================] - 3s 4ms/step - loss: 0.2457 - binary_accuracy: 0.9097 - val_loss: 0.2966 - val_binary_accuracy: 0.8778\n",
            "Epoch 10/10\n",
            "625/625 [==============================] - 3s 4ms/step - loss: 0.2310 - binary_accuracy: 0.9162 - val_loss: 0.2921 - val_binary_accuracy: 0.8798\n"
          ]
        }
      ],
      "source": [
        "epochs = 10\n",
        "history = model.fit(\n",
        "    train_ds,\n",
        "    validation_data=val_ds,\n",
        "    epochs=epochs)"
      ]
    },
    {
      "cell_type": "markdown",
      "source": [
        "As always, we want to make sure we have the highest accuracy (binary and validation) while keeping our loss values as low as possible."
      ],
      "metadata": {
        "id": "EJQ5WppLtp7I"
      }
    },
    {
      "cell_type": "markdown",
      "metadata": {
        "id": "9EEGuDVuzb5r"
      },
      "source": [
        "## Evaluate the model\n",
        "\n",
        "To make it easier to understand the output from above, the follow code block helps use better see how the model performed."
      ]
    },
    {
      "cell_type": "code",
      "execution_count": 24,
      "metadata": {
        "id": "zOMKywn4zReN",
        "outputId": "34ab0e6d-93ad-4ca3-d52c-a845a73e0329",
        "colab": {
          "base_uri": "https://localhost:8080/"
        }
      },
      "outputs": [
        {
          "output_type": "stream",
          "name": "stdout",
          "text": [
            "782/782 [==============================] - 6s 8ms/step - loss: 0.3104 - binary_accuracy: 0.8734\n",
            "Loss:  0.3104064166545868\n",
            "Accuracy:  0.8733999729156494\n"
          ]
        }
      ],
      "source": [
        "loss, accuracy = model.evaluate(test_ds)\n",
        "\n",
        "print(\"Loss: \", loss)\n",
        "print(\"Accuracy: \", accuracy)"
      ]
    },
    {
      "cell_type": "markdown",
      "metadata": {
        "id": "z1iEXVTR0Z2t"
      },
      "source": [
        "This fairly naive approach achieves an accuracy of about **87%**."
      ]
    },
    {
      "cell_type": "markdown",
      "metadata": {
        "id": "ldbQqCw2Xc1W"
      },
      "source": [
        "### Create a plot of accuracy and loss over time\n",
        "\n",
        "We can use `model.fit()`, which returns a `History` object that contains a dictionary with everything that happened during training:"
      ]
    },
    {
      "cell_type": "code",
      "execution_count": 25,
      "metadata": {
        "id": "-YcvZsdvWfDf",
        "outputId": "152adcbf-d79e-4c50-ec9c-fdf99519655d",
        "colab": {
          "base_uri": "https://localhost:8080/"
        }
      },
      "outputs": [
        {
          "output_type": "execute_result",
          "data": {
            "text/plain": [
              "dict_keys(['loss', 'binary_accuracy', 'val_loss', 'val_binary_accuracy'])"
            ]
          },
          "metadata": {},
          "execution_count": 25
        }
      ],
      "source": [
        "history_dict = history.history\n",
        "history_dict.keys()"
      ]
    },
    {
      "cell_type": "markdown",
      "metadata": {
        "id": "1_CH32qJXruI"
      },
      "source": [
        "Each of the four main values from the model training code block are recorded, aka, accuracy and training for both the training and validation datasets.\n",
        "\n",
        "This will help us see the performance overtime, and can help us see if we are overtraining our model. "
      ]
    },
    {
      "cell_type": "code",
      "execution_count": 26,
      "metadata": {
        "id": "2SEMeQ5YXs8z",
        "outputId": "3c9d508d-5f19-47a3-e8ce-387f61270002",
        "colab": {
          "base_uri": "https://localhost:8080/",
          "height": 295
        }
      },
      "outputs": [
        {
          "output_type": "display_data",
          "data": {
            "text/plain": [
              "<Figure size 432x288 with 1 Axes>"
            ],
            "image/png": "[encoded data removed]"
          },
          "metadata": {
            "needs_background": "light"
          }
        }
      ],
      "source": [
        "acc = history_dict['binary_accuracy']\n",
        "val_acc = history_dict['val_binary_accuracy']\n",
        "loss = history_dict['loss']\n",
        "val_loss = history_dict['val_loss']\n",
        "\n",
        "epochs = range(1, len(acc) + 1)\n",
        "\n",
        "# \"bo\" is for \"blue dot\"\n",
        "plt.plot(epochs, loss, 'bo', label='Training loss')\n",
        "# b is for \"solid blue line\"\n",
        "plt.plot(epochs, val_loss, 'b', label='Validation loss')\n",
        "plt.title('Training and validation loss')\n",
        "plt.xlabel('Epochs')\n",
        "plt.ylabel('Loss')\n",
        "plt.legend()\n",
        "\n",
        "plt.show()"
      ]
    },
    {
      "cell_type": "code",
      "execution_count": 27,
      "metadata": {
        "id": "Z3PJemLPXwz_",
        "outputId": "0d53ce2e-3f57-42f5-c2d6-30f51fa80c36",
        "colab": {
          "base_uri": "https://localhost:8080/",
          "height": 295
        }
      },
      "outputs": [
        {
          "output_type": "display_data",
          "data": {
            "text/plain": [
              "<Figure size 432x288 with 1 Axes>"
            ],
            "image/png": "[encoded data removed]"
          },
          "metadata": {
            "needs_background": "light"
          }
        }
      ],
      "source": [
        "plt.plot(epochs, acc, 'bo', label='Training acc')\n",
        "plt.plot(epochs, val_acc, 'b', label='Validation acc')\n",
        "plt.title('Training and validation accuracy')\n",
        "plt.xlabel('Epochs')\n",
        "plt.ylabel('Accuracy')\n",
        "plt.legend(loc='lower right')\n",
        "\n",
        "plt.show()"
      ]
    },
    {
      "cell_type": "markdown",
      "metadata": {
        "id": "hFFyCuJoXy7r"
      },
      "source": [
        "**Training Data**\n",
        "- Blue Dots\n",
        "- Accuracy increases with each epoch\n",
        "- Loss decreases with each epoch\n",
        "\n",
        "<br>\n",
        "\n",
        "**Validation Data**\n",
        "\n",
        "- Blue Line\n",
        "- Accuracy plateaus after 6 epochs\n",
        "- Loss plateaus after 7-8 epochs\n",
        "\n",
        "<br>\n",
        "\n",
        "**Conclusion**\n",
        "\n",
        "Since the validation loss and accuracy plateau before the training data, it means we are seeing overfitting from overtraining. \n",
        "\n",
        "Notice the training loss *decreases* with each epoch and the training accuracy *increases* with each epoch. This is expected when using a gradient descent optimization—it should minimize the desired quantity on every iteration.\n",
        "\n",
        "<br>\n",
        "\n",
        "\n",
        "\n",
        "---\n",
        "\n",
        "\n",
        "Given the characteristics of our datasets discussed prior, we can prevent overfitting by calling the `tf.keras.callbacks.EarlyStopping` callback argument to stop the training before overfitting occurs. \n",
        "\n",
        "*This also helps with hypertuning as you can set a high value for your epoch and allow the model decide when to stop.*"
      ]
    },
    {
      "cell_type": "markdown",
      "metadata": {
        "id": "-to23J3Vy5d3"
      },
      "source": [
        "## Export the model\n",
        "\n",
        "Now that we haave finished with the model, we can export the model for deployment or future use. We used the `TextVectorization` layer on the data directly, but to make deployment easier, we can add thiss layer to the model.\n",
        "\n",
        "<br>\n",
        "\n",
        "We will create a new model that has the `TextVectorization` layer added in, but with the weights we have already trained.**bold text**"
      ]
    },
    {
      "cell_type": "code",
      "execution_count": 28,
      "metadata": {
        "id": "FWXsMvryuZuq",
        "outputId": "f6daafbb-e365-4a3a-ca65-cc06726530e3",
        "colab": {
          "base_uri": "https://localhost:8080/"
        }
      },
      "outputs": [
        {
          "output_type": "stream",
          "name": "stdout",
          "text": [
            "782/782 [==============================] - 7s 8ms/step - loss: 0.3104 - accuracy: 0.8734\n",
            "0.8733999729156494\n"
          ]
        }
      ],
      "source": [
        "export_model = tf.keras.Sequential([\n",
        "  vectorize_layer,\n",
        "  model,\n",
        "  layers.Activation('sigmoid')\n",
        "])\n",
        "\n",
        "export_model.compile(\n",
        "    loss=losses.BinaryCrossentropy(from_logits=False), optimizer=\"adam\", metrics=['accuracy']\n",
        ")\n",
        "\n",
        "# Test it with `raw_test_ds`, which yields raw strings\n",
        "loss, accuracy = export_model.evaluate(raw_test_ds)\n",
        "print(accuracy)"
      ]
    },
    {
      "cell_type": "markdown",
      "metadata": {
        "id": "TwQgoN88LoEF"
      },
      "source": [
        "### Inference on new data\n",
        "\n",
        "We can test out new reviews by calling the `model.predict()` function, and then inserting your text directly (as below), or you could pass through a list in an array. "
      ]
    },
    {
      "cell_type": "code",
      "execution_count": 35,
      "metadata": {
        "id": "QW355HH5L49K",
        "outputId": "7f61ddbf-34de-422e-cecc-ba0db1385ee2",
        "colab": {
          "base_uri": "https://localhost:8080/"
        }
      },
      "outputs": [
        {
          "output_type": "stream",
          "name": "stdout",
          "text": [
            "1/1 [==============================] - 0s 28ms/step\n"
          ]
        },
        {
          "output_type": "execute_result",
          "data": {
            "text/plain": [
              "array([[0.7073385 ],\n",
              "       [0.4338148 ],\n",
              "       [0.13832909],\n",
              "       [0.499325  ]], dtype=float32)"
            ]
          },
          "metadata": {},
          "execution_count": 35
        }
      ],
      "source": [
        "examples = [\n",
        "  \"The movie was really amazing, best movie ever!!!\",\n",
        "  \"The movie was okay.\",\n",
        "  \"The movie was terrible, literally the worst thing ever made\",\n",
        "  \"TRY YOUR OWN CUSTOM ENTRY\"\n",
        "]\n",
        "\n",
        "export_model.predict(examples)"
      ]
    },
    {
      "cell_type": "markdown",
      "metadata": {
        "id": "MaxlpFWpzR6c"
      },
      "source": [
        "We can now see the predictions of the model on the input text reviews. \n",
        "\n",
        "The higher the value (closer to 1) the more positive the review is, and the closer the prediction is to 0, the more negative the review is. \n",
        "\n",
        "With this information, you could have the model output the predictions, and then set up buckets or segments based on these values.\n",
        "\n",
        "<br>\n",
        "\n",
        "***This is a great example of how machine learning can aid in data analysis.***"
      ]
    },
    {
      "cell_type": "markdown",
      "source": [
        "# Next Steps\n",
        "\n",
        "- Try using this approach on the [Twitter Sentiment Analysis](https://www.kaggle.com/datasets/jp797498e/twitter-entity-sentiment-analysis) dataset\n",
        "- Create a report by segmenting the test data provided above.\n",
        "- Try webscrapping for data collect"
      ],
      "metadata": {
        "id": "Ld_-w95Fuf4j"
      }
    }
  ],
  "metadata": {
    "accelerator": "GPU",
    "colab": {
      "collapsed_sections": [],
      "name": "Binary_Classification_IMDB.ipynb",
      "toc_visible": true,
      "provenance": []
    },
    "kernelspec": {
      "display_name": "Python 3",
      "name": "python3"
    }
  },
  "nbformat": 4,
  "nbformat_minor": 0
}